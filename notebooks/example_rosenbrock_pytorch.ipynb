{
 "cells": [
  {
   "cell_type": "code",
   "execution_count": 1,
   "metadata": {},
   "outputs": [],
   "source": [
    "%matplotlib inline\n",
    "import matplotlib.pyplot as plt\n",
    "\n",
    "import numpy as np\n",
    "import torch\n",
    "import torch.nn as nn\n",
    "\n",
    "# We do not need a dataset so we load the fake input\n",
    "from meta_learning.backend.pytorch.dataset import NoopData\n",
    "\n",
    "# We load the optimizers we care about.\n",
    "from meta_learning.backend.pytorch.optimizer import SGD, Adam \n",
    "from meta_learning.backend.pytorch.optimizer import MetaSgd\n",
    "import meta_learning.backend.pytorch.losses as loss\n",
    "from meta_learning.backend.pytorch import optimizer as optim\n",
    "\n",
    "# The model we care about.\n",
    "from meta_learning.backend.pytorch.model import Rosenbrock\n",
    "\n",
    "from meta_learning.backend.pytorch.learning import train"
   ]
  },
  {
   "cell_type": "code",
   "execution_count": 2,
   "metadata": {},
   "outputs": [
    {
     "name": "stdout",
     "output_type": "stream",
     "text": [
      "('clip_grad: ', 10.0)\n",
      "('clip_grad: ', 10.0)\n"
     ]
    }
   ],
   "source": [
    "# base log dir\n",
    "logdir = \"../pytorch_logs/rosenbrock_example/{}\"\n",
    "\n",
    "# base learning rate\n",
    "base_lr = 0.001\n",
    "\n",
    "# memory learning rate\n",
    "mem_lr = 0.001\n",
    "clip_grad = 10.0\n",
    "\n",
    "debug = True\n",
    "\n",
    "memory_optimizer_fn = optim.memory_optimizer_adam_init(mem_lr)\n",
    "\n",
    "# training params shared across all experiments\n",
    "train_params = {'max_iter': 100, 'seed': 1234, 'debug': debug, 'cuda': False}\n",
    "meta_params = {}\n",
    "meta_params['num_centers'] = 100\n",
    "meta_params['use_memory'] = True\n",
    "meta_params['lm_scale'] = 0.5\n",
    "meta_params['memory_learning_rate'] = mem_lr\n",
    "meta_params['min_grad_value'] = -clip_grad\n",
    "meta_params['max_grad_value'] = clip_grad\n",
    "meta_params['logspace'] = False \n",
    "\n",
    "# starting position for rosenbrock problem\n",
    "x1_init = 1.5\n",
    "x2_init = -0.5 \n",
    "\n",
    "# basic SGD with coordinate-wise gradient clipping\n",
    "model1 = Rosenbrock(x1_init, x2_init)\n",
    "sgd_optimizer = SGD(model1.parameters(), lr=base_lr, clip_grad=clip_grad)\n",
    "\n",
    "# Meta SGD with coordinate-wise gradient clipping \n",
    "model2 = Rosenbrock(x1_init, x2_init)\n",
    "meta_optimizer_1d = MetaSgd(\n",
    "    model2,\n",
    "    memory_optimizer_init_fn=memory_optimizer_fn,\n",
    "    lr=base_lr,\n",
    "    clip_grad=clip_grad,\n",
    "    meta_params=meta_params,\n",
    "    logdir=logdir.format('meta_sgd'),\n",
    "    debug=debug)\n",
    "\n",
    "# criterion we want to minimize\n",
    "criterion = loss.IdentityLoss()\n",
    "dataset = NoopData(batch_size=1, shard_name='train')"
   ]
  },
  {
   "cell_type": "code",
   "execution_count": 3,
   "metadata": {},
   "outputs": [
    {
     "name": "stderr",
     "output_type": "stream",
     "text": [
      "\r",
      "                                                                               \r",
      "\r",
      "N/A% (0 of 100) |                        | Elapsed Time: 0:00:00 ETA:  --:--:--"
     ]
    },
    {
     "name": "stdout",
     "output_type": "stream",
     "text": [
      "Finished Training\n"
     ]
    }
   ],
   "source": [
    "# run 1\n",
    "train_params['logdir'] = logdir.format('sgd')\n",
    "result1 = train(model1, sgd_optimizer, criterion, dataset, train_params)"
   ]
  },
  {
   "cell_type": "code",
   "execution_count": 4,
   "metadata": {},
   "outputs": [
    {
     "name": "stderr",
     "output_type": "stream",
     "text": [
      " 59% (59 of 100) |##############          | Elapsed Time: 0:00:00 ETA:  0:00:00"
     ]
    },
    {
     "name": "stdout",
     "output_type": "stream",
     "text": [
      "Finished Training\n"
     ]
    }
   ],
   "source": [
    "train_params['logdir'] = logdir.format('meta_sgd_1d')\n",
    "result2 = train(model2, meta_optimizer_1d, criterion, dataset, train_params)"
   ]
  },
  {
   "cell_type": "code",
   "execution_count": 5,
   "metadata": {},
   "outputs": [
    {
     "data": {
      "text/plain": [
       "Text(0,0.5,u'MSE')"
      ]
     },
     "execution_count": 5,
     "metadata": {},
     "output_type": "execute_result"
    },
    {
     "data": {
      "image/png": "[encoded data removed]",
      "text/plain": [
       "<matplotlib.figure.Figure at 0x1081f0750>"
      ]
     },
     "metadata": {},
     "output_type": "display_data"
    }
   ],
   "source": [
    "plt.figure()\n",
    "plt.plot(result1['loss'], label='SGD', color='C0')\n",
    "plt.plot(result2['loss'], label='MetaSGD1d', color='C1')\n",
    "plt.yscale('log')\n",
    "plt.legend()\n",
    "plt.xlabel('iterations')\n",
    "plt.ylabel('MSE')"
   ]
  }
 ],
 "metadata": {
  "kernelspec": {
   "display_name": "Python 2",
   "language": "python",
   "name": "python2"
  },
  "language_info": {
   "codemirror_mode": {
    "name": "ipython",
    "version": 2
   },
   "file_extension": ".py",
   "mimetype": "text/x-python",
   "name": "python",
   "nbconvert_exporter": "python",
   "pygments_lexer": "ipython2",
   "version": "2.7.10"
  }
 },
 "nbformat": 4,
 "nbformat_minor": 2
}
